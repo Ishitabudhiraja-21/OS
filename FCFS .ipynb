{
 "cells": [
  {
   "cell_type": "markdown",
   "metadata": {},
   "source": [
    "**1)FCFS WITHOUT ARRIVAL TIME**"
   ]
  },
  {
   "cell_type": "code",
   "execution_count": 1,
   "metadata": {
    "scrolled": true
   },
   "outputs": [
    {
     "name": "stdout",
     "output_type": "stream",
     "text": [
      "Enter Number of processes:3\n",
      "Enter burst time for Process 0 :\n",
      "24\n",
      "Enter burst time for Process 1 :\n",
      "3\n",
      "Enter burst time for Process 2 :\n",
      "3\n",
      "waiting time is: [0, 24, 27]\n",
      "turn around time is: [24, 27, 30]\n",
      "average waiting time is: 17.0\n",
      "average tutn around time is: 27.0\n"
     ]
    }
   ],
   "source": [
    "num=int(input(\"Enter Number of processes:\"))  #nnumber of process\n",
    "\n",
    "#burst time\n",
    "burst_time=[]\n",
    "for i in range(0,num):\n",
    "    print(\"Enter burst time for Process\",i,\":\")\n",
    "    bt=int(input())\n",
    "    burst_time.append(bt)\n",
    "    \n",
    "#waiting time\n",
    "waiting_time = [0]    \n",
    "for i in range(1,num):\n",
    "    waiting_time.append(burst_time[i-1]+waiting_time[i-1])   \n",
    "print(\"waiting time is:\",waiting_time)\n",
    "\n",
    "#turn around time\n",
    "turn_around_time=[]\n",
    "for i in range(num):\n",
    "    turn_around_time.append(waiting_time[i]+burst_time[i])\n",
    "print(\"turn around time is:\",turn_around_time) \n",
    "\n",
    "#total waiting time\n",
    "Total_waiting_time=sum(waiting_time)\n",
    "#averAge waiting time\n",
    "avg_wt=Total_waiting_time/num\n",
    "print(\"average waiting time is:\",avg_wt)\n",
    "\n",
    "#total turn around time\n",
    "Total_TurnAround_time=sum(turn_around_time)\n",
    "#average turn around time\n",
    "avg_tat=Total_TurnAround_time/num\n",
    "print(\"average tutn around time is:\",avg_tat)\n",
    "\n"
   ]
  },
  {
   "cell_type": "markdown",
   "metadata": {},
   "source": [
    "**2)FCFS WITH ARRIVAL TIME**"
   ]
  },
  {
   "cell_type": "code",
   "execution_count": 29,
   "metadata": {},
   "outputs": [
    {
     "name": "stdout",
     "output_type": "stream",
     "text": [
      "Enter Number of processes:3\n",
      "Enter burst time for Process 1 :\n",
      "5\n",
      "Enter burst time for Process 2 :\n",
      "9\n",
      "Enter burst time for Process 3 :\n",
      "6\n",
      "Enter arrival time for Process 1 :\n",
      "0\n",
      "Enter arrival time for Process 2 :\n",
      "3\n",
      "Enter arrival time for Process 3 :\n",
      "6\n",
      "waiting time is: [0, 2, 8]\n",
      "turn around time is : [5, 11, 14]\n",
      "average tat is: 10.0\n",
      "average waiting time is:3.33333 \n"
     ]
    }
   ],
   "source": [
    "num=int(input(\"Enter Number of processes:\")) #number of processes\n",
    "service_time = [0] * num  \n",
    "service_time[0] = 0\n",
    "\n",
    "#burst time\n",
    "burst_time=[]\n",
    "for i in range(0,num):\n",
    "    print(\"Enter burst time for Process\",i+1,\":\")\n",
    "    bt=int(input())\n",
    "    burst_time.append(bt)\n",
    "\n",
    "#arrival time\n",
    "arrival_time=[]\n",
    "for i in range(0,num):\n",
    "    print(\"Enter arrival time for Process\",i+1,\":\")\n",
    "    at=int(input())\n",
    "    arrival_time.append(at)\n",
    "#waiting time    \n",
    "wt=[0]\n",
    "for i in range(1, num):  \n",
    "          \n",
    "        # Add burst time of previous processes  \n",
    "        service_time[i] = (service_time[i - 1] +\n",
    "                                     burst_time[i - 1])  \n",
    "  \n",
    "        # Find waiting time for current \n",
    "        # process = sum - at[i]  \n",
    "        wt.append(service_time[i] - arrival_time[i])  \n",
    "  \n",
    "        # If waiting time for a process is in  \n",
    "        # negative that means it is already  \n",
    "        # in the ready queue before CPU becomes  \n",
    "        # idle so its waiting time is 0  \n",
    "        if (wt[i] < 0): \n",
    "            wt[i] = 0  \n",
    "print(\"waiting time is:\",wt)   \n",
    "\n",
    "# turnaround time \n",
    "tat=[]    \n",
    "for i in range(num):\n",
    "    tat.append(wt[i]+burst_time[i])\n",
    "print(\"turn around time is :\",tat) \n",
    "\n",
    "\n",
    "#total tat \n",
    "total_tat=0\n",
    "for i in range(num):\n",
    "    total_tat=tat[i]+total_tat\n",
    "print(\"average tat is:\",total_tat/num)        \n",
    "\n",
    "#total waiting time\n",
    "total_wt=0\n",
    "for i in range(num):\n",
    "    total_wt=total_wt+wt[i]\n",
    "print(\"average waiting time is:%.5f \"%(total_wt /num))  "
   ]
  }
 ],
 "metadata": {
  "kernelspec": {
   "display_name": "Python 3",
   "language": "python",
   "name": "python3"
  },
  "language_info": {
   "codemirror_mode": {
    "name": "ipython",
    "version": 3
   },
   "file_extension": ".py",
   "mimetype": "text/x-python",
   "name": "python",
   "nbconvert_exporter": "python",
   "pygments_lexer": "ipython3",
   "version": "3.7.4"
  }
 },
 "nbformat": 4,
 "nbformat_minor": 2
}
